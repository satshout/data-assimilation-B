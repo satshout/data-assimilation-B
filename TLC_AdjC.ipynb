{
 "cells": [
  {
   "cell_type": "markdown",
   "metadata": {},
   "source": [
    "# Tangent Linear Code と Adjoint Code を整理しながら書いてみる"
   ]
  },
  {
   "cell_type": "markdown",
   "metadata": {},
   "source": [
    "# はじめに\n",
    "\n",
    "## 環境要件\n"
   ]
  },
  {
   "cell_type": "code",
   "execution_count": 70,
   "metadata": {},
   "outputs": [
    {
     "name": "stdout",
     "output_type": "stream",
     "text": [
      "numpy: 1.24.3\n"
     ]
    }
   ],
   "source": [
    "import numpy as np\n",
    "import matplotlib.pyplot as plt\n",
    "\n",
    "print(f\"numpy: {np.__version__}\")"
   ]
  },
  {
   "cell_type": "markdown",
   "metadata": {},
   "source": [
    "## Tangent Linear Code と Adjoint Code の定義\n",
    "\n",
    "状態空間ベクトル $\\vec{x}$ に対する非線形な演算子 $\\mathcal{M}$ が与えられたとする。\n",
    "\n",
    "$$\n",
    "\\vec{y} = \\mathcal{M} (\\vec{x}) , \n",
    "\\qquad \\vec{x} \\in \\mathbb{R}^{J}, \n",
    "\\quad \\vec{y} \\in \\mathbb{R}^{N}.\n",
    "$$\n",
    "\n",
    "| 例 | |\n",
    "|----|-|\n",
    "| 観測演算子 $\\tilde{\\mathcal{H}}$ | $\\vec{y}^b_i = \\tilde{\\mathcal{H}} (\\vec{x}^f_i)$ |\n",
    "| 時間発展モデル $\\mathcal{M}$ | $\\vec{x}^f _{i+1} = \\mathcal{M} (\\vec{x}^a _{i})$ |\n",
    "\n",
    "### Tangent Linear model\n",
    "\n",
    "入力の微小な擾乱に対する出力の応答\n",
    "\n",
    "$$\n",
    "\\vec{y} + \\delta{ \\vec{y} } = \\mathcal{ M } ( \\vec{x} + \\delta \\vec{x} ).\n",
    "$$\n",
    "\n",
    "が線型であると近似する。\n",
    "\n",
    "$$\\delta \\vec{y} \\approx \\mathbf{L} \\ \\delta \\vec{x}.$$\n",
    "\n",
    "$\\mathbf{L}$ はモデル $\\mathcal{M}$ を $\\vec{x}$ の周りでテイラー展開した時の係数である。\n",
    "\n",
    "$$\n",
    "\\mathbf{L} = \\frac{ \\partial \\mathcal{M} }{ \\partial \\vec{x} } \\in \\mathbb{R}^{N \\times J}, \n",
    "\\qquad \\mathrm{L}_{kl} = \\frac{ \\partial \\vec{x}_k }{ \\partial x_l }.\n",
    "$$\n",
    "\n",
    "この行列 $\\mathbf{L}$ を *接線型モデル (Tangent Linear model, TLM)* という。\n",
    "\n",
    "\n",
    "### Adjoint model\n",
    "\n",
    "内積を $\\langle \\vec{a}, \\vec{b} \\rangle = a_1 b_1 + a_2 b_2 + \\cdots + a_n b_n$ とする。接線型モデル $\\mathbf{L}$ に対して\n",
    "\n",
    "$$\\langle \\vec{y} , \\mathbf{L} \\vec{x} \\rangle = \\langle \\mathbf{L}^\\dagger \\vec{y} , \\vec{x} \\rangle$$\n",
    "\n",
    "を満たす行列 $\\mathbf{L}^\\dagger$ を *随伴モデル (Adjoint model, ADJ)* という。$\\mathbf{L}$ が実数値行列であるとき、\n",
    "\n",
    "$$\\mathbf{L}^\\dagger = \\mathbf{L}^T$$\n",
    "\n",
    "である。\n",
    "\n",
    "\n",
    "### アルゴリズム\n",
    "\n",
    "接線型モデル $\\mathbf{L}$ や随伴モデル $\\mathbf{L}^T$ は、ビッグデータを扱う場合には大抵ものすごい次元の行列になる。ところが、実際に状態空間モデルを動かす場合には $\\mathbf{L}, \\mathbf{L}^T$ を何らかのベクトルや行列に掛け合わせるような式が頻出するばかりで、行列データとして $\\mathbf{L}, \\mathbf{L}^T$ を保持しておくメリットは少ない。\n",
    "\n",
    "そこで、これらの行列そのもの**ではなく**、これらを作用させた結果だけをうまく計算するプログラムが考え出された。このアルゴリズムを *Tangent Linear Code,  Adjoint Code* という。すなわち、\n",
    "\n",
    "```python: TangentLinearCode.py\n",
    "def TangentLinearCode(dx1, dx2, ..., dxN): #入力 = 摂動\n",
    "    # アルゴリズム\n",
    "    Lx = (dy1, dy2, ..., dyN) #TLMと入力ベクトルxの積\n",
    "    return Lx #出力 = 応答\n",
    "```\n",
    "\n",
    "```python: AdjointCode.py\n",
    "def AdjointCode(dy1, dy2, ..., dyN): #入力 = 応答\n",
    "    # アルゴリズム\n",
    "    LTy = (dx1, dx2, ..., dxJ) #ADJと入力ベクトルyの積\n",
    "    return LTy #出力 = 摂動\n",
    "```\n",
    "\n",
    "のようなプログラムになる。"
   ]
  },
  {
   "cell_type": "markdown",
   "metadata": {},
   "source": [
    "# 例1: 観測演算子 $\\mathcal{H}$ の場合\n",
    "\n",
    "状態変数ベクトル $\\vec{x}$ が風速ベクトル ($u$: 東西方向の風速, $v$: 南北方向の風速) であり、観測演算子 $\\mathcal{H}$ によってスカラー風速 $y$ を計算する場合を考える。\n",
    "\n",
    "$$\n",
    "\\vec{x} = \n",
    "\\begin{pmatrix}\n",
    "u \\cr v\n",
    "\\end{pmatrix}\n",
    ", \\qquad\n",
    "\n",
    "y = \\mathcal{H} (u, v) = \\sqrt{u^2 + v^2}\n",
    ", \\qquad\n",
    "\n",
    "\\vec{x} \\in \\mathbb{R}^{2}\n",
    ", \\quad\n",
    "y \\in \\mathbb{R}.\n",
    "$$ "
   ]
  },
  {
   "cell_type": "code",
   "execution_count": 71,
   "metadata": {},
   "outputs": [],
   "source": [
    "def H(u, v):\n",
    "    y = np.sqrt(u**2 + v**2)\n",
    "    return y"
   ]
  },
  {
   "cell_type": "markdown",
   "metadata": {},
   "source": [
    "## Tangent Linear Code\n",
    "\n",
    "観測演算子 $\\mathcal{H}$ を接線型化していこう。\n",
    "\n",
    "$$\n",
    "\\begin{aligned}\n",
    "y &= \\sqrt{u^2+v^2} \\cr\n",
    "\\iff &y^2 = u^2 + v^2\n",
    "\\end{aligned}\n",
    "$$\n",
    "\n",
    "基本場と摂動を考えて、\n",
    "\n",
    "$$(y_0 + \\delta y)^2 = (u_0 + \\delta u)^2 + (v_0 + \\delta v)^2.$$\n",
    "\n",
    "二次以上の微小量を無視して\n",
    "\n",
    "$$\n",
    "\\delta y \\approx \\frac{u_0}{y_0} \\delta u + \\frac{v_0}{y_0} \\delta v.\n",
    "$$\n",
    "\n",
    "したがって、TLMは\n",
    "\n",
    "$$\n",
    "\\mathbf{L} = \n",
    "\\begin{pmatrix}\n",
    "\\frac{u_0}{y_0} & \\frac{v_0}{y_0}\n",
    "\\end{pmatrix}\n",
    "\\in \\mathbb{R}^{1 \\times 2}.\n",
    "$$"
   ]
  },
  {
   "cell_type": "code",
   "execution_count": 72,
   "metadata": {},
   "outputs": [],
   "source": [
    "def TangentLinearCode(u0, v0, du, dv): #入力 = 基本場 + 摂動\n",
    "    y0 = H(u0, v0) #基本場の情報を取得\n",
    "\n",
    "    dy = (u0*du + v0*dv) / y0\n",
    "    return dy #出力 = 応答"
   ]
  },
  {
   "cell_type": "markdown",
   "metadata": {},
   "source": [
    "## Adjoint Code\n",
    "\n",
    "TLM の転置を考えて、\n",
    "\n",
    "$$\n",
    "\\mathbf{L}^T = \n",
    "\\begin{pmatrix}\n",
    "\\frac{u_0}{y_0} \\\\[5pt]\n",
    "\\frac{v_0}{y_0}\n",
    "\\end{pmatrix}\n",
    "\\in \\mathbb{R}^{2 \\times 1}.\n",
    "$$"
   ]
  },
  {
   "cell_type": "code",
   "execution_count": 73,
   "metadata": {},
   "outputs": [],
   "source": [
    "def AdjointCode(u0, v0, dy): #入力 = 基本場 + 応答\n",
    "    y0 = H(u0, v0) #基本場の情報を取得\n",
    "\n",
    "    du = dy * u0 / y0\n",
    "    dv = dy * v0 / y0\n",
    "    return du, dv #出力 = 摂動"
   ]
  },
  {
   "cell_type": "markdown",
   "metadata": {},
   "source": [
    "## 動作テスト\n",
    "\n",
    "恒等式\n",
    "\n",
    "$$ \\lVert \\mathbf{L} \\ \\delta \\vec{x} \\rVert ^2 = \\langle \\mathbf{L} \\ \\delta \\vec{x}, \\ \\mathbf{L} \\ \\delta \\vec{x} \\rangle = \\langle \\delta \\vec{x}, \\ \\mathbf{L}^T \\mathbf{L} \\ \\delta \\vec{x} \\rangle$$\n",
    "\n",
    "で、\n",
    "\n",
    "- $\\delta \\vec{x}$ :  Tangent Linear Code の入力\n",
    "- $\\mathbf{L} \\ \\delta \\vec{x}$ : Tangent Linear Code の出力\n",
    "- $\\mathbf{L}^T \\mathbf{L} \\ \\delta \\vec{x}$ : Tangent Linear Code の出力を Adjoint Code に入力した結果\n",
    "\n",
    "となるはずである。また、そもそも TLM が\n",
    "\n",
    "$$\\delta \\vec{y} = \\mathcal{H}(\\vec{x} + \\delta \\vec{x}) - \\mathcal{H}(\\vec{x}) \\approx \\mathbf{L} \\ \\delta \\vec{x}.$$\n",
    "\n",
    "と近似したものであったことを思い出して、"
   ]
  },
  {
   "cell_type": "code",
   "execution_count": 74,
   "metadata": {},
   "outputs": [
    {
     "name": "stdout",
     "output_type": "stream",
     "text": [
      "3.4524052577349775 ~= 3.1999999999999997 == 3.2\n"
     ]
    }
   ],
   "source": [
    "u0, v0 = 10.0, 5.0\n",
    "du, dv =  1.0, 2.0\n",
    "\n",
    "Lx = TangentLinearCode(u0, v0, du, dv)\n",
    "LTLx_u, LTLx_v = AdjointCode(u0, v0, Lx)\n",
    "\n",
    "dy_true = H(u0+du, v0+dv) - H(u0, v0)\n",
    "\n",
    "print(f\"{dy_true * dy_true} ~= { Lx * Lx } == {du * LTLx_u + dv * LTLx_v}\")"
   ]
  },
  {
   "cell_type": "markdown",
   "metadata": {},
   "source": [
    "Tangent Linear Code と Adjoint Code がうまく動いていること、そして厳密な $\\delta \\vec{y}$ に対して TLM が $O \\left( \\frac{ |\\delta \\vec{x}| }{ |\\vec{x}_0| } \\right) = O(0.1)$ の精度で近似できていることが確認された。\n",
    "\n",
    "## Singular Vector の視覚化\n",
    "\n",
    "TLM と ADJ に対して *leading Singular Vector* $v_1$ と が存在して、次を満たす。\n",
    "\n",
    "$$(\\mathbf{L}^T \\mathbf{L}) \\vec{v}_1 = \\sigma_1 ^{~2} \\vec{v}_1$$"
   ]
  },
  {
   "cell_type": "code",
   "execution_count": 75,
   "metadata": {},
   "outputs": [
    {
     "data": {
      "image/png": "[encoded data removed]",
      "text/plain": [
       "<Figure size 500x500 with 1 Axes>"
      ]
     },
     "metadata": {},
     "output_type": "display_data"
    },
    {
     "data": {
      "image/png": "[encoded data removed]",
      "text/plain": [
       "<Figure size 500x500 with 1 Axes>"
      ]
     },
     "metadata": {},
     "output_type": "display_data"
    },
    {
     "data": {
      "image/png": "[encoded data removed]",
      "text/plain": [
       "<Figure size 500x500 with 1 Axes>"
      ]
     },
     "metadata": {},
     "output_type": "display_data"
    },
    {
     "data": {
      "image/png": "[encoded data removed]",
      "text/plain": [
       "<Figure size 500x500 with 1 Axes>"
      ]
     },
     "metadata": {},
     "output_type": "display_data"
    }
   ],
   "source": [
    "m = 100000\n",
    "dx_list = np.random.multivariate_normal([0, 0], [[1, 0], [0, 1]], m)\n",
    "\n",
    "for itr in range(4):\n",
    "    fig = plt.figure(figsize=(5, 5))\n",
    "    ax = fig.add_subplot(111)\n",
    "    ax.scatter(dx_list[:, 0], dx_list[:, 1], s=1)\n",
    "    ax.set_xlim(-6, 6)\n",
    "    ax.set_ylim(-6, 6)\n",
    "    ax.set_xlabel(r\"$\\delta u$\")\n",
    "    ax.set_ylabel(r\"$\\delta v$\")\n",
    "    ax.set_title(f\"iteration {itr}\")\n",
    "    ax.set_aspect(\"equal\")\n",
    "    plt.show()\n",
    "    nx_dx_list = np.zeros((m, 2))\n",
    "    for k, dx in enumerate(dx_list):\n",
    "        Lx = TangentLinearCode(u0, v0, dx[0], dx[1])\n",
    "        LTLx_u, LTLx_v = AdjointCode(u0, v0, Lx)\n",
    "        nx_dx_list[k, 0], nx_dx_list[k, 1] = LTLx_u, LTLx_v\n",
    "    dx_list = nx_dx_list"
   ]
  },
  {
   "cell_type": "markdown",
   "metadata": {},
   "source": [
    "# 例2: 時間発展モデル $\\mathcal{M}$ の場合\n",
    "\n",
    "状態変数ベクトル $\\vec{x}$ が Lorentz-63 モデルにしたがって時間発展するとする。\n",
    "\n",
    "$$\n",
    "\\vec{x} = \n",
    "\\begin{pmatrix}\n",
    "x(t) \\cr y(t) \\cr z(t)\n",
    "\\end{pmatrix}\n",
    "\\in \\mathbb{R}^{3}\n",
    ", \\qquad\n",
    "\n",
    "\\frac{ \\mathrm{d} \\vec{x} }{\\mathrm{d} t} = F_\\mathrm{L63} (t, \\vec{x})\n",
    "\n",
    "\\iff\n",
    "\n",
    "\\left\\lbrace\n",
    "\\begin{aligned}\n",
    "& \\frac{\\mathrm{d} x}{\\mathrm{d} t}=10(y-x), \\\\[10pt]\n",
    "& \\frac{\\mathrm{d} y}{\\mathrm{d} t}=x(28-z)-y \\\\[10pt]\n",
    "& \\frac{\\mathrm{d} z}{\\mathrm{d} t}=x y-\\frac{8}{3} z .\n",
    "\\end{aligned}\n",
    "\\right.\n",
    "$$\n",
    "\n",
    "ただし、時間発展は時間グリッドを $\\Delta t = 0.05$ にとった 4次の Runge-Kutta 法で数値的に積分して求めるものとする。\n",
    "\n",
    "$$\n",
    "\\mathrm{RK4} \\left( F (t_i, \\ \\vec{x}_i) \\right)\n",
    "\\iff \n",
    "\\left\\lbrace \\begin{aligned}\n",
    "& \\vec{k_1} = F\\left(t_i, \\ \\vec{x}_i\\right), \\cr\n",
    "& \\vec{k_2} = F\\left(t_i+\\frac{\\Delta t}{2}, \\ \\vec{x}_i+\\frac{\\Delta t}{2} \\cdot k_1\\right), \\cr\n",
    "& \\vec{k_3} = F\\left(t_i+\\frac{\\Delta t}{2}, \\ \\vec{x}_i+\\frac{\\Delta t}{2} \\cdot k_2\\right), \\cr\n",
    "& \\vec{k_4} = F\\left(t_i+\\Delta t, \\ \\vec{x}_n+\\Delta t \\cdot k_3\\right).\n",
    "\\end{aligned} \\right.\n",
    "$$\n",
    "\n",
    "$$\n",
    "\\vec{x}_{i+1} \n",
    "= \\vec{x}_i + \\Delta \\vec{x}_i, \\qquad\n",
    "\\Delta \\vec{x}_i = \\frac{\\Delta t}{6}\\left(\\vec{k_1} + 2 \\vec{k_2} + 2 \\vec{k_3} + \\vec{k_4} \\right)\n",
    "$$\n",
    "\n",
    "時間発展のモデル $\\mathcal{M}(t, \\cdot)$ は、運動方程式としての Lorentz-63 モデル $F_\\mathrm{L63}(t, \\cdot)$ ではなく、系の情報を一ステップ分進める数値積分全体としての $\\mathrm{RK4} (F_\\mathrm{L63} (t, \\cdot))$ である。\n",
    "\n",
    "$$\n",
    "\\vec{x}_{i+1} = \\mathcal{M} (t, \\vec{x}_i) = \\mathrm{RK4} (F_\\mathrm{L63} (t_i, \\vec{x}_i))\n",
    "$$"
   ]
  },
  {
   "cell_type": "code",
   "execution_count": 92,
   "metadata": {},
   "outputs": [],
   "source": [
    "def lorentz63(X, s=10, r=28, b=8/3):\n",
    "    x, y, z = X # vector X = [x, y, z]\n",
    "    \n",
    "    dx = s * (y - x)\n",
    "    dy = r * x - y - x * z\n",
    "    dz = x * y - b * z\n",
    "    return np.array([dx, dy, dz])"
   ]
  },
  {
   "cell_type": "code",
   "execution_count": 93,
   "metadata": {},
   "outputs": [],
   "source": [
    "def rk4_step(X, Func, Dt=0.05):\n",
    "    k_weight = np.zeros((4, 3))\n",
    "\n",
    "    k_weight[0, :] = K1 = Func(X)\n",
    "    k_weight[1, :] = K2 = Func(X + K1 * Dt / 2)\n",
    "    k_weight[2, :] = K3 = Func(X + K2 * Dt / 2)\n",
    "    k_weight[3, :] = K4 = Func(X + K3 * Dt)\n",
    "\n",
    "    DX = (K1 + 2 * K2 + 2 * K3 + K4) * Dt / 6\n",
    "    return DX, k_weight"
   ]
  },
  {
   "cell_type": "code",
   "execution_count": 94,
   "metadata": {},
   "outputs": [],
   "source": [
    "def M(ti, Xi, Dt=0.05):\n",
    "    DX, k_weight = rk4_step(Xi, lorentz63, Dt=Dt)\n",
    "    return Xi + DX, k_weight"
   ]
  },
  {
   "cell_type": "code",
   "execution_count": 95,
   "metadata": {},
   "outputs": [
    {
     "name": "stdout",
     "output_type": "stream",
     "text": [
      "nX: [1.29144907 2.39393332 0.96345562]\n",
      "k_weight: \n",
      " [[ 0.         26.         -1.66666667]\n",
      " [ 6.5        25.39166667 -0.90555556]\n",
      " [ 4.72291667 29.77902604 -0.70585098]\n",
      " [12.52805469 30.93061294  0.50415358]]\n"
     ]
    }
   ],
   "source": [
    "nX, k_weight = M(0, np.array([1, 1, 1]))\n",
    "\n",
    "print(f\"nX: {nX}\")\n",
    "print(f\"k_weight: \\n {k_weight}\")"
   ]
  },
  {
   "cell_type": "markdown",
   "metadata": {},
   "source": [
    "## Tangent Linear Code\n",
    "\n",
    "Runge Kutta 法で Lorentz-63 モデルを数値積分をするとき、例えば重み $\\vec{k}_3$ を求めるためには $\\vec{k}_2, \\vec{k}_1$ までの情報を $F_\\mathrm{L63}$ に入力する必要がある。\n",
    "したがって、時間発展 $\\mathcal{M}$ の構造を模式的に書き下すと、\n",
    "\n",
    "$$\n",
    "\\begin{aligned}\n",
    "\\mathcal{M}(t, \\cdot) \n",
    "&= \\mathrm{RK4} (F_\\mathrm{L63} (t, \\cdot)) \\cr\n",
    "\n",
    "&= \\mathrm{RK4}_{[\\Delta \\vec{x}]} ( \n",
    "    \\mathrm{RK4}_{[4 \\leftarrow 1]} (F_\\mathrm{L63} (t, \\cdot)) \n",
    "    ) \\cr\n",
    "\n",
    "&= \\mathrm{RK4}_{[\\Delta \\vec{x}]} ( \n",
    "    \\mathrm{RK4}_{[4]} ( F_\\mathrm{L63} (t, \n",
    "        \\mathrm{RK4}_{[3 \\leftarrow 1]} (F_\\mathrm{L63} (t, \\cdot))\n",
    "        ))\n",
    "    ) \\cr\n",
    "\n",
    "&= \\cdots \\cr\n",
    "\n",
    "&= \\mathrm{RK4}_{[\\Delta \\vec{x}]} (\n",
    "    \\mathrm{RK4}_{[4]} ( F_\\mathrm{L63} (t, \n",
    "        \\mathrm{RK4}_{[3]} ( F_\\mathrm{L63} (t, \n",
    "            \\mathrm{RK4}_{[2]} ( F_\\mathrm{L63} (t, \n",
    "                \\mathrm{RK4}_{[1]} ( F_\\mathrm{L63} (t, \\cdot) )\n",
    "            ))\n",
    "        ))\n",
    "    ))\n",
    ")\n",
    "\\end{aligned}\n",
    "$$\n",
    "\n",
    "であるから、$\\mathcal{M}, \\mathrm{RK4}, F_\\mathrm{L63}$ の TLM をそれぞれ $\\mathbf{M}, \\mathbf{L}_\\mathrm{RK4}, \\mathbf{L}_\\mathrm{L63}$ とすると、以下のような行列の積で表せる。\n",
    "\n",
    "$$\n",
    "\\mathbf{M} \n",
    "= \\mathbf{L}_{\\mathrm{RK4} [\\Delta \\vec{x}]} \n",
    "\\cdot \\mathbf{L}_{\\mathrm{RK4} [4]} \\cdot \\mathbf{L}_\\mathrm{L63}\n",
    "\\cdot \\mathbf{L}_{\\mathrm{RK4} [3]} \\cdot \\mathbf{L}_\\mathrm{L63}\n",
    "\\cdot \\mathbf{L}_{\\mathrm{RK4} [2]} \\cdot \\mathbf{L}_\\mathrm{L63}\n",
    "\\cdot \\mathbf{L}_{\\mathrm{RK4} [1]} \\cdot \\mathbf{L}_\\mathrm{L63}\n",
    "$$\n",
    "\n",
    "したがって、Runge Kutta 法による時間発展モデルの Tangent Linear Code を書くためにはまず Lorentz-63 モデルの TLM が必要である。\n"
   ]
  },
  {
   "cell_type": "markdown",
   "metadata": {},
   "source": [
    "\n",
    "### Lorenz-63 モデルの TLM\n",
    "\n",
    "$$\n",
    "\\delta \\left( \\frac{\\mathrm{d} \\vec{x}}{\\mathrm{d} t} \\right)\n",
    "= \\begin{pmatrix}\n",
    "\\delta \\dot{x} \\\\[10pt] \\delta \\dot{y} \\\\[10pt] \\delta \\dot{z}\n",
    "\\end{pmatrix}\n",
    "\\approx \\begin{pmatrix}\n",
    "\\frac{\\mathrm{d} F_\\mathrm{L63}^x }{\\mathrm{d} x} & \\frac{\\mathrm{d} F_\\mathrm{L63}^x }{\\mathrm{d} y} & \\frac{\\mathrm{d} F_\\mathrm{L63}^x }{\\mathrm{d} z} \\\\[10pt]\n",
    "\\frac{\\mathrm{d} F_\\mathrm{L63}^y }{\\mathrm{d} z} & \\frac{\\mathrm{d} F_\\mathrm{L63}^y }{\\mathrm{d} y} & \\frac{\\mathrm{d} F_\\mathrm{L63}^y }{\\mathrm{d} z} \\\\[10pt]\n",
    "\\frac{\\mathrm{d} F_\\mathrm{L63}^z }{\\mathrm{d}x } & \\frac{\\mathrm{d} F_\\mathrm{L63}^z }{\\mathrm{d} y} & \\frac{\\mathrm{d} F_\\mathrm{L63}^z }{\\mathrm{d} z} \n",
    "\\end{pmatrix}\n",
    "\\begin{pmatrix}\n",
    "\\delta x \\\\[10pt] \\delta y \\\\[10pt] \\delta z\n",
    "\\end{pmatrix}\n",
    "= \\begin{pmatrix}\n",
    "-10  & 10 & 0 \\\\[10pt]\n",
    "28-z & -1 & -x \\\\[10pt]\n",
    "y    & x  & -\\frac{8}{3}\n",
    "\\end{pmatrix}\n",
    "\\begin{pmatrix}\n",
    "\\delta x \\\\[10pt] \\delta y \\\\[10pt] \\delta z\n",
    "\\end{pmatrix}\n",
    "= \\mathbf{L}_\\mathrm{L63} \\ \\delta \\vec{x}\n",
    "$$"
   ]
  },
  {
   "cell_type": "code",
   "execution_count": 96,
   "metadata": {},
   "outputs": [],
   "source": [
    "def l63_tlm(Xi, dX, s=10, r=28, b=8/3): #入力 = 基本場 + 摂動\n",
    "    xi, yi, zi = Xi # vector Xi = [xi, yi, zi]\n",
    "    dx, dy, dz = dX # vector dX = [dx, dy, dz]\n",
    "\n",
    "    dDx =       -s * dx +  s * dy +   0 * dz\n",
    "    dDy = (r - zi) * dx + -1 * dy + -xi * dz\n",
    "    dDz =       yi * dx + xi * dy +  -b * dz\n",
    "    return np.array([dDx, dDy, dDz]) #出力 = 応答"
   ]
  },
  {
   "cell_type": "markdown",
   "metadata": {},
   "source": [
    "### 時間発展モデル $\\mathcal{M}$ の TLM"
   ]
  },
  {
   "cell_type": "code",
   "execution_count": 116,
   "metadata": {},
   "outputs": [],
   "source": [
    "def TangentLinearCode(ti, Xi, dX, Dt=0.05): #入力 = 基本場(xi, yi, zi) + 摂動(dxi, dyi, dzi)\n",
    "    nX, k_weight_i = M(ti, Xi, Dt=Dt) #基本場の情報を取得\n",
    "    K1i, K2i, K3i, K4i = k_weight_i\n",
    "    \n",
    "    # tlm( RK4[1] )\n",
    "    X0_rk0 = Xi.copy() #lorenz63_tlm が感じる基本場\n",
    "    dDX1 = l63_tlm(X0_rk0, dX)\n",
    "    dX_rk1 = dX + dDX1 * Dt / 2\n",
    "\n",
    "    # tlm( RK4[2] )\n",
    "    X0_rk1 = Xi + K1i * Dt / 2 #lorenz63_tlm が感じる基本場\n",
    "    dDX2 = l63_tlm(X0_rk1, dX_rk1)\n",
    "    dX_rk2 = dX + dDX2 * Dt / 2\n",
    "\n",
    "    # tlm( RK4[3] )\n",
    "    X0_rk2 = Xi + K2i * Dt / 2 #lorenz63_tlm が感じる基本場\n",
    "    dDX3 = l63_tlm(X0_rk2, dX_rk2)\n",
    "    dX_rk3 = dX + dDX3 * Dt\n",
    "\n",
    "    # tlm( RK4[4] )\n",
    "    X0_rk3 = Xi + K3i * Dt #lorenz63_tlm が感じる基本場\n",
    "    dDX4 = l63_tlm(X0_rk3, dX_rk3)\n",
    "\n",
    "    # tlm( RK4[ΔX] )\n",
    "    dnX = dX + (dDX1 + 2 * dDX2 + 2 * dDX3 + dDX4) * Dt / 6\n",
    "    return dnX #出力 = 応答"
   ]
  },
  {
   "cell_type": "markdown",
   "metadata": {},
   "source": [
    "## Adjoint Code\n",
    "\n",
    "$$\n",
    "\\begin{aligned}\n",
    "\\mathbf{M}^T \n",
    "&= (\\mathbf{L}_{\\mathrm{RK4} [\\Delta \\vec{x}]} \n",
    "\\cdot \\mathbf{L}_{\\mathrm{RK4} [4]} \\cdot \\mathbf{L}_\\mathrm{L63}\n",
    "\\cdot \\mathbf{L}_{\\mathrm{RK4} [3]} \\cdot \\mathbf{L}_\\mathrm{L63}\n",
    "\\cdot \\mathbf{L}_{\\mathrm{RK4} [2]} \\cdot \\mathbf{L}_\\mathrm{L63}\n",
    "\\cdot \\mathbf{L}_{\\mathrm{RK4} [1]} \\cdot \\mathbf{L}_\\mathrm{L63})^T \\cr\n",
    "&=    \\mathbf{L}_\\mathrm{L63}^T \\cdot \\mathbf{L}_{\\mathrm{RK4} [1]}^T \n",
    "\\cdot \\mathbf{L}_\\mathrm{L63}^T \\cdot \\mathbf{L}_{\\mathrm{RK4} [2]}^T \n",
    "\\cdot \\mathbf{L}_\\mathrm{L63}^T \\cdot \\mathbf{L}_{\\mathrm{RK4} [3]}^T \n",
    "\\cdot \\mathbf{L}_\\mathrm{L63}^T \\cdot \\mathbf{L}_{\\mathrm{RK4} [4]}^T \n",
    "\\cdot\\mathbf{L}_{\\mathrm{RK4} [\\Delta \\vec{x}]}^T\n",
    "\\end{aligned}\n",
    "$$\n"
   ]
  },
  {
   "cell_type": "code",
   "execution_count": 117,
   "metadata": {},
   "outputs": [],
   "source": [
    "def l63_adj(Xi, dnX, s=10, r=28, b=8/3): #入力 = 基本場 + 応答\n",
    "    xi,  yi,  zi  = Xi  # vector  Xi = [xi, yi, zi]\n",
    "    dnx, dny, dnz = dnX # vector dnX = [dxi, dyi, dzi]\n",
    "\n",
    "    dxi = -s * dnx + (r - zi) * dny + yi * dnz\n",
    "    dyi =  s * dnx +       -1 * dny + xi * dnz\n",
    "    dzi =  0 * dnx +      -xi * dny + -b * dnz\n",
    "    return np.array([dxi, dyi, dzi]) #出力 = 摂動"
   ]
  },
  {
   "cell_type": "code",
   "execution_count": 127,
   "metadata": {},
   "outputs": [],
   "source": [
    "def AdjointCode(ti, Xi, dnX, Dt=0.05): #入力 = 基本場(xi, yi, zi) + 応答(dxi, dyi, dzi)\n",
    "    nX, k_weight_i = M(ti, Xi, Dt=Dt) #基本場の情報を取得\n",
    "    K1i, K2i, K3i, K4i = k_weight_i\n",
    "\n",
    "    # adj( RK4[ΔX] )\n",
    "    dX   = dnX.copy()\n",
    "    dDX4 = dnX * Dt / 6\n",
    "    dDX3 = dnX * Dt / 3\n",
    "    dDX2 = dnX * Dt / 3\n",
    "    dDX1 = dnX * Dt / 6\n",
    "\n",
    "    # adj( RK4[4] )\n",
    "    X0_rk3 = Xi + K3i * Dt #lorenz63_adj が感じる基本場\n",
    "    dX_rk3 = l63_adj(X0_rk3, dDX4)\n",
    "    dDX3 = dDX3 + dX_rk3 * Dt\n",
    "    dX += dX_rk3\n",
    "\n",
    "    # adj( RK4[3] )\n",
    "    X0_rk2 = Xi + K2i * Dt / 2 #lorenz63_adj が感じる基本場\n",
    "    dX_rk2 = l63_adj(X0_rk2, dDX3)\n",
    "    dDX2 = dDX2 + dX_rk2 * Dt / 2\n",
    "    dX += dX_rk2\n",
    "\n",
    "    # adj( RK4[2] )\n",
    "    X0_rk1 = Xi + K1i * Dt / 2 #lorenz63_adj が感じる基本場\n",
    "    dX_rk1 = l63_adj(X0_rk1, dDX2)\n",
    "    dDX1 = dDX1 + dX_rk1 * Dt / 2\n",
    "    dX += dX_rk1\n",
    "\n",
    "    # adj( RK4[1] )\n",
    "    X0_rk0 = Xi #lorenz63_adj が感じる基本場\n",
    "    dX_rk0 = l63_adj(X0_rk0, dDX1)\n",
    "    dX += dX_rk0\n",
    "    \n",
    "    return dX #出力 = 摂動"
   ]
  },
  {
   "cell_type": "markdown",
   "metadata": {},
   "source": [
    "## 動作テスト\n",
    "\n",
    "恒等式\n",
    "\n",
    "$$ \\lVert \\mathbf{M} \\ \\delta \\vec{x}_i \\rVert ^2 = \\langle \\mathbf{M} \\ \\delta \\vec{x}_i, \\ \\mathbf{M} \\ \\delta \\vec{x}_i \\rangle = \\langle \\delta \\vec{x}_i, \\ \\mathbf{M}^T \\mathbf{M} \\ \\delta \\vec{x}_i \\rangle$$\n",
    "\n",
    "で、\n",
    "\n",
    "- $\\delta \\vec{x}_i$ :  Tangent Linear Code の入力\n",
    "- $\\mathbf{M} \\ \\delta \\vec{x}_i$ : Tangent Linear Code の出力\n",
    "- $\\mathbf{M}^T \\mathbf{M} \\ \\delta \\vec{x}_i$ : Tangent Linear Code の出力を Adjoint Code に入力した結果\n",
    "\n",
    "となるはずである。また、そもそも TLM が\n",
    "\n",
    "$$\\delta \\vec{x}_{i+1} = \\mathcal{M}(\\vec{x}_i + \\delta \\vec{x}) - \\mathcal{M}(\\vec{x}_i) \\approx \\mathbf{M} \\ \\delta \\vec{x}_i.$$\n",
    "\n",
    "と近似したものであったことを思い出して、"
   ]
  },
  {
   "cell_type": "code",
   "execution_count": 128,
   "metadata": {},
   "outputs": [
    {
     "name": "stdout",
     "output_type": "stream",
     "text": [
      "2280.0 == 2280.0\n"
     ]
    }
   ],
   "source": [
    "X0 = np.array([10, 20, 30])\n",
    "dX0 = np.array([1, 2, 3])\n",
    "\n",
    "Lx = l63_tlm(X0, dX0)\n",
    "LTLx = l63_adj(X0, Lx)\n",
    "\n",
    "print(f\"{np.dot(dX0, LTLx)} == {np.dot(Lx, Lx)}\")"
   ]
  },
  {
   "cell_type": "code",
   "execution_count": 129,
   "metadata": {},
   "outputs": [
    {
     "name": "stdout",
     "output_type": "stream",
     "text": [
      "16.588074147597972 ~= 16.700646822453045 == 16.70064682245304\n"
     ]
    }
   ],
   "source": [
    "X0 = np.array([10, 20, 30])\n",
    "dX0 = np.array([1, 2, 3])\n",
    "\n",
    "Mx = TangentLinearCode(0, X0, dX0)\n",
    "MTMx = AdjointCode(0, X0, Mx)\n",
    "\n",
    "dX_true = M(0, X0 + dX0)[0] - M(0, X0)[0]\n",
    "\n",
    "print(f\"{np.dot(dX_true, dX_true)} ~= { np.dot(Mx, Mx) } == { np.dot(dX0, MTMx) }\")"
   ]
  }
 ],
 "metadata": {
  "kernelspec": {
   "display_name": "Python 3",
   "language": "python",
   "name": "python3"
  },
  "language_info": {
   "codemirror_mode": {
    "name": "ipython",
    "version": 3
   },
   "file_extension": ".py",
   "mimetype": "text/x-python",
   "name": "python",
   "nbconvert_exporter": "python",
   "pygments_lexer": "ipython3",
   "version": "3.9.16"
  },
  "orig_nbformat": 4
 },
 "nbformat": 4,
 "nbformat_minor": 2
}
